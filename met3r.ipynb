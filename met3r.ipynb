{
 "cells": [
  {
   "cell_type": "code",
   "execution_count": 1,
   "metadata": {},
   "outputs": [],
   "source": [
    "import torch\n",
    "from met3r import MEt3R\n",
    "import glob\n",
    "from matplotlib import pyplot as plt\n",
    "import time\n",
    "\n",
    "\n",
    "class Checker:\n",
    "    def __init__(self, model_path, is_mast3r=False):\n",
    "        self.metric = MEt3R(\n",
    "            img_size=None, # Default. Set to `None` to use the input resolution on the fly!\n",
    "            use_norm=True, # Default \n",
    "            feat_backbone=\"dino16\", # Default \n",
    "            featup_weights=\"mhamilton723/FeatUp\", # Default \n",
    "            dust3r_weights=model_path, # Default\n",
    "            use_mast3r_dust3r=is_mast3r # Default. Set to `False` to use original DUSt3R. Make sure to also set the correct weights from huggingface.\n",
    "        ).cuda()\n",
    "\n",
    "    def __call__(self, inputs_B_V_C_H_W):\n",
    "        # Prepare inputs of shape (batch, views, channels, height, width): views must be 2\n",
    "\n",
    "        # Evaluate MEt3R\n",
    "        score, *_ = self.metric(\n",
    "            images=inputs_B_V_C_H_W, \n",
    "            return_overlap_mask=False, # Default \n",
    "            return_score_map=False, # Default \n",
    "            return_projections=False # Default \n",
    "        )\n",
    "\n",
    "        # Should be between 0.25 - 0.35\n",
    "        # return list of scores\n",
    "\n",
    "        # Clear up GPU memory\n",
    "        torch.cuda.empty_cache()\n",
    "        \n",
    "        return score.tolist()\n",
    "\n"
   ]
  },
  {
   "cell_type": "code",
   "execution_count": 2,
   "metadata": {},
   "outputs": [
    {
     "name": "stderr",
     "output_type": "stream",
     "text": [
      "Using cache found in /users/bangya/.cache/torch/hub/mhamilton723_FeatUp_main\n",
      "/users/bangya/miniconda3/envs/cut3r/lib/python3.11/site-packages/tqdm/auto.py:21: TqdmWarning: IProgress not found. Please update jupyter and ipywidgets. See https://ipywidgets.readthedocs.io/en/stable/user_install.html\n",
      "  from .autonotebook import tqdm as notebook_tqdm\n",
      "Using cache found in /users/bangya/.cache/torch/hub/facebookresearch_dino_main\n"
     ]
    },
    {
     "name": "stdout",
     "output_type": "stream",
     "text": [
      "... loading model from chkpts/mast3r.pth\n"
     ]
    },
    {
     "name": "stderr",
     "output_type": "stream",
     "text": [
      "/users/bangya/CUT3R/test/mast3r/mast3r/model.py:24: FutureWarning: You are using `torch.load` with `weights_only=False` (the current default value), which uses the default pickle module implicitly. It is possible to construct malicious pickle data which will execute arbitrary code during unpickling (See https://github.com/pytorch/pytorch/blob/main/SECURITY.md#untrusted-models for more details). In a future release, the default value for `weights_only` will be flipped to `True`. This limits the functions that could be executed during unpickling. Arbitrary objects will no longer be allowed to be loaded via this mode unless they are explicitly allowlisted by the user via `torch.serialization.add_safe_globals`. We recommend you start setting `weights_only=True` for any use case where you don't have full control of the loaded file. Please open an issue on GitHub for any issues related to this experimental feature.\n",
      "  ckpt = torch.load(model_path, map_location='cpu')\n"
     ]
    },
    {
     "name": "stdout",
     "output_type": "stream",
     "text": [
      "instantiating : AsymmetricMASt3R(enc_depth=24, dec_depth=12, enc_embed_dim=1024, dec_embed_dim=768, enc_num_heads=16, dec_num_heads=12, pos_embed='RoPE100',img_size=(512, 512), head_type='catmlp+dpt', output_mode='pts3d+desc24', depth_mode=('exp', -inf, inf), conf_mode=('exp', 1, inf), patch_embed_cls='PatchEmbedDust3R', two_confs=True, desc_conf_mode=('exp', 0, inf), landscape_only=False)\n",
      "<All keys matched successfully>\n"
     ]
    }
   ],
   "source": [
    "ckr = Checker(\"chkpts/mast3r.pth\", is_mast3r=True)\n",
    "img_dirs = [\"imgs/seq_bad/\", \"imgs/seq_good/\"]\n"
   ]
  },
  {
   "cell_type": "code",
   "execution_count": 3,
   "metadata": {},
   "outputs": [
    {
     "name": "stdout",
     "output_type": "stream",
     "text": [
      "eval 3d consistency for: imgs/seq_bad/ \n",
      "rgb range: -1.00 - 1.00\n",
      "Input shape: torch.Size([32, 2, 3, 384, 624])\n"
     ]
    },
    {
     "name": "stderr",
     "output_type": "stream",
     "text": [
      "/users/bangya/CUT3R/test/mast3r/dust3r/dust3r/model.py:206: FutureWarning: `torch.cuda.amp.autocast(args...)` is deprecated. Please use `torch.amp.autocast('cuda', args...)` instead.\n",
      "  with torch.cuda.amp.autocast(enabled=False):\n",
      "/users/bangya/miniconda3/envs/cut3r/lib/python3.11/site-packages/torch/functional.py:534: UserWarning: torch.meshgrid: in an upcoming release, it will be required to pass the indexing argument. (Triggered internally at /pytorch/aten/src/ATen/native/TensorShape.cpp:3595.)\n",
      "  return _VF.meshgrid(tensors, **kwargs)  # type: ignore[attr-defined]\n"
     ]
    },
    {
     "name": "stdout",
     "output_type": "stream",
     "text": [
      "Time taken: 32.38 seconds\n",
      "Scores:\n",
      "            avg: 0.1407\n",
      "            min: 0.1009\n",
      "            max: 0.2124\n",
      "            std: 0.0292\n",
      "            median: 0.1296\n",
      "eval 3d consistency for: imgs/seq_good/ \n",
      "rgb range: -1.00 - 1.00\n",
      "Input shape: torch.Size([32, 2, 3, 384, 624])\n",
      "Time taken: 31.88 seconds\n",
      "Scores:\n",
      "            avg: 0.1475\n",
      "            min: 0.1043\n",
      "            max: 0.2161\n",
      "            std: 0.0270\n",
      "            median: 0.1387\n"
     ]
    }
   ],
   "source": [
    "def check_dir(img_dir):\n",
    "    img_files = glob.glob(img_dir + \"*.png\") + glob.glob(img_dir + \"*.jpg\")\n",
    "    img_files.sort()\n",
    "\n",
    "    # read imgs as list of torch tensors\n",
    "    imgs_C_H_W = [torch.from_numpy(plt.imread(f)).permute(2, 0, 1).float() for f in img_files]\n",
    "    # make width and height divisible by 16\n",
    "    imgs_C_H_W = [img[:, 8:-8, 8:-8] for img in imgs_C_H_W]\n",
    "\n",
    "\n",
    "    # convert to a big tensor with dimensions (batch, viewpair, channels, height, width)\n",
    "    # the viewpair dimension must be 2, with fashion (f, f+1) for each frame, so total batch should be len(imgs_C_H_W)-1\n",
    "\n",
    "    imgs_B_V_C_H_W = torch.stack([\n",
    "        torch.stack([imgs_C_H_W[i], imgs_C_H_W[i + 1]]) for i in range(len(imgs_C_H_W) - 1)\n",
    "    ]).cuda() # (batch, channels, views, height, width)\n",
    "\n",
    "    # project rgb to -1 to 1 range\n",
    "    imgs_B_V_C_H_W = imgs_B_V_C_H_W * 2 - 1 # (batch, channels, views, height, width)\n",
    "    print(f\"rgb range: {imgs_B_V_C_H_W.min():.2f} - {imgs_B_V_C_H_W.max():.2f}\") # check the range of rgb values\n",
    "\n",
    "    # check the shape\n",
    "    print(f\"Input shape: {imgs_B_V_C_H_W.shape}\") # should be (batch, channels, 2, height, width)\n",
    "\n",
    "    MAX_BS = 8\n",
    "    # check the score\n",
    "    scores = []\n",
    "\n",
    "    start = time.time()\n",
    "    for i in range(0, imgs_B_V_C_H_W.shape[0], MAX_BS):\n",
    "        inputs_B_V_C_H_W = imgs_B_V_C_H_W[i:i + MAX_BS]\n",
    "        score = ckr(inputs_B_V_C_H_W)\n",
    "        scores.extend(score)\n",
    "\n",
    "    print(f\"Time taken: {time.time() - start:.2f} seconds\") # measure time taken for the whole batch\n",
    "    print(f\"\"\"Scores:\n",
    "            avg: {sum(scores) / len(scores):.4f}\n",
    "            min: {min(scores):.4f}\n",
    "            max: {max(scores):.4f}\n",
    "            std: {torch.std(torch.tensor(scores)).item():.4f}\n",
    "            median: {torch.median(torch.tensor(scores)).item():.4f}\"\"\")\n",
    "\n",
    "\n",
    "for img_dir in img_dirs:\n",
    "    print(f\"eval 3d consistency for: {img_dir} \")\n",
    "    check_dir(img_dir)\n"
   ]
  }
 ],
 "metadata": {
  "kernelspec": {
   "display_name": "cut3r",
   "language": "python",
   "name": "python3"
  },
  "language_info": {
   "codemirror_mode": {
    "name": "ipython",
    "version": 3
   },
   "file_extension": ".py",
   "mimetype": "text/x-python",
   "name": "python",
   "nbconvert_exporter": "python",
   "pygments_lexer": "ipython3",
   "version": "3.11.11"
  }
 },
 "nbformat": 4,
 "nbformat_minor": 2
}
